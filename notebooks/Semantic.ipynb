{
 "cells": [
  {
   "cell_type": "code",
   "execution_count": 13,
   "metadata": {},
   "outputs": [
    {
     "name": "stdout",
     "output_type": "stream",
     "text": [
      "\u001b[33mWARNING: You are using pip version 19.1, however version 19.1.1 is available.\n",
      "You should consider upgrading via the 'pip install --upgrade pip' command.\u001b[0m\n",
      "\u001b[33mWARNING: You are using pip version 19.1, however version 19.1.1 is available.\n",
      "You should consider upgrading via the 'pip install --upgrade pip' command.\u001b[0m\n",
      "\u001b[33mWARNING: You are using pip version 19.1, however version 19.1.1 is available.\n",
      "You should consider upgrading via the 'pip install --upgrade pip' command.\u001b[0m\n"
     ]
    }
   ],
   "source": [
    "# Install the latest Tensorflow version.\n",
    "!pip3 install --quiet \"tensorflow>=1.7\"\n",
    "# Install TF-Hub.\n",
    "!pip3 install --quiet tensorflow-hub\n",
    "!pip3 install --quiet seaborn"
   ]
  },
  {
   "cell_type": "code",
   "execution_count": 14,
   "metadata": {},
   "outputs": [],
   "source": [
    "\n",
    "import tensorflow as tf\n",
    "import tensorflow_hub as hub\n",
    "import matplotlib.pyplot as plt\n",
    "import numpy as np\n",
    "import os\n",
    "import pandas as pd\n",
    "import re\n",
    "import seaborn as sns"
   ]
  },
  {
   "cell_type": "code",
   "execution_count": 15,
   "metadata": {},
   "outputs": [],
   "source": [
    "module_url = \"https://tfhub.dev/google/universal-sentence-encoder-large/3\" #@param [\"https://tfhub.dev/google/universal-sentence-encoder/2\", \"https://tfhub.dev/google/universal-sentence-encoder-large/3\"]\n",
    "\n",
    "tf.logging.set_verbosity(tf.logging.INFO)"
   ]
  },
  {
   "cell_type": "code",
   "execution_count": null,
   "metadata": {},
   "outputs": [],
   "source": [
    "\n",
    "g = tf.Graph()\n",
    "with g.as_default():\n",
    "  # We will be feeding 1D tensors of text into the graph.\n",
    "  text_input = tf.placeholder(dtype=tf.string, shape=[None])\n",
    "  embed = hub.Module(module_url)\n",
    "  embedded_text = embed(text_input)\n",
    "  init_op = tf.group([tf.global_variables_initializer(), tf.tables_initializer()])\n",
    "g.finalize()\n",
    "        \n",
    "\n",
    "session = tf.Session(graph=g)\n",
    "session.run(init_op)"
   ]
  },
  {
   "cell_type": "code",
   "execution_count": null,
   "metadata": {},
   "outputs": [],
   "source": [
    "\n",
    "def get_features(texts):\n",
    "    if type(texts) is str:\n",
    "        texts = [texts]\n",
    "    \n",
    "    return session.run(embedded_text, feed_dict={text_input: texts})\n",
    "\n",
    "def cosine_similarity(v1, v2):\n",
    "    # mag1 = np.linalg.norm(v1)\n",
    "    # mag2 = np.linalg.norm(v2)\n",
    "    # print('mag1:' + str(mag1))\n",
    "    # print('mag2:' + str(mag2))\n",
    "    # if (not mag1) or (not mag2):\n",
    "    #     return 0\n",
    "    # return np.dot(v1, v2) / (mag1 * mag2)\n",
    "    return np.dot(v1, v2)\n",
    "\n",
    "# only two string\n",
    "def test_similarity(text1, text2):\n",
    "    vec1 = get_features(text1)[0]\n",
    "    vec2 = get_features(text2)[0]\n",
    "    print(vec1.shape)\n",
    "    return cosine_similarity(vec1, vec2)\n",
    "\n",
    "# one string with one array\n",
    "def test_similarity_with_array(text1, textArray) :\n",
    "    matrix1 = get_features(text1)\n",
    "    matrix2 = get_features(textArray)\n",
    "    return np.inner(matrix1, matrix2)[0]\n",
    "\n",
    "\n",
    "test_similarity('that cat eats catnip', 'that cat drinks')"
   ]
  }
 ],
 "metadata": {
  "kernelspec": {
   "display_name": "Python 3",
   "language": "python",
   "name": "python3"
  }
 },
 "nbformat": 4,
 "nbformat_minor": 2
}
